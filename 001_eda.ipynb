{
 "cells": [
  {
   "cell_type": "code",
   "execution_count": 1,
   "id": "ed1e9219",
   "metadata": {},
   "outputs": [
    {
     "name": "stderr",
     "output_type": "stream",
     "text": [
      "c:\\Users\\LENOVO\\Desktop\\Project\\myenv\\lib\\site-packages\\tqdm\\auto.py:21: TqdmWarning: IProgress not found. Please update jupyter and ipywidgets. See https://ipywidgets.readthedocs.io/en/stable/user_install.html\n",
      "  from .autonotebook import tqdm as notebook_tqdm\n"
     ]
    }
   ],
   "source": [
    "# Import necessary libraries\n",
    "from pathlib import Path\n",
    "import pandas as pd, seaborn as sns, matplotlib.pyplot as plt\n",
    "import shutil, re, numpy as np\n",
    "from kagglehub import dataset_download\n",
    "\n",
    "RAW_DIR = Path(\"data/raw\"); RAW_DIR.mkdir(parents=True, exist_ok=True)\n",
    "FIG_DIR = Path(\"reports/eda/figures\"); FIG_DIR.mkdir(parents=True, exist_ok=True)\n"
   ]
  },
  {
   "cell_type": "code",
   "execution_count": 3,
   "id": "5f52b648",
   "metadata": {},
   "outputs": [
    {
     "name": "stdout",
     "output_type": "stream",
     "text": [
      "CSVs already present → data\\raw\n"
     ]
    }
   ],
   "source": [
    "### 1 Download dataset (runs once)\n",
    "\n",
    "expected = [RAW_DIR / name for name in [\n",
    "    \"events.csv\", \"category_tree.csv\",\n",
    "    \"item_properties_part1.csv\", \"item_properties_part2.csv\",\n",
    "]]\n",
    "\n",
    "if not all(f.exists() for f in expected):\n",
    "    print(\"Downloading Retail Rocket CSVs…\")\n",
    "    dl = Path(dataset_download(\"retailrocket/ecommerce-dataset\"))\n",
    "    for csv in dl.glob(\"*.csv\"):\n",
    "        shutil.copy2(csv, RAW_DIR / csv.name)\n",
    "    print(\"✔️ Done →\", RAW_DIR)\n",
    "else:\n",
    "    print(\"CSVs already present →\", RAW_DIR)\n"
   ]
  }
 ],
 "metadata": {
  "kernelspec": {
   "display_name": "myenv",
   "language": "python",
   "name": "python3"
  },
  "language_info": {
   "codemirror_mode": {
    "name": "ipython",
    "version": 3
   },
   "file_extension": ".py",
   "mimetype": "text/x-python",
   "name": "python",
   "nbconvert_exporter": "python",
   "pygments_lexer": "ipython3",
   "version": "3.10.11"
  }
 },
 "nbformat": 4,
 "nbformat_minor": 5
}
